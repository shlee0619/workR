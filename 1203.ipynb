{
  "nbformat": 4,
  "nbformat_minor": 0,
  "metadata": {
    "colab": {
      "provenance": [],
      "include_colab_link": true
    },
    "kernelspec": {
      "name": "python3",
      "display_name": "Python 3"
    },
    "language_info": {
      "name": "python"
    }
  },
  "cells": [
    {
      "cell_type": "markdown",
      "metadata": {
        "id": "view-in-github",
        "colab_type": "text"
      },
      "source": [
        "<a href=\"https://colab.research.google.com/github/shlee0619/workR/blob/main/1203.ipynb\" target=\"_parent\"><img src=\"https://colab.research.google.com/assets/colab-badge.svg\" alt=\"Open In Colab\"/></a>"
      ]
    },
    {
      "cell_type": "code",
      "execution_count": null,
      "metadata": {
        "id": "T_ff0b-75M-d"
      },
      "outputs": [],
      "source": [
        "# 데이터프레임\n",
        "# 1) 벡터를 이용\n",
        "english <- c(70,80,90,100)\n",
        "math <- c(50,60,70,80)\n",
        "class <- c(1,1,2,2)\n",
        "english;math;class\n",
        "df_midterm <- data.frame(english,\n",
        "                         math,\n",
        "                         class)\n",
        "df_midterm"
      ]
    },
    {
      "cell_type": "code",
      "source": [
        "# 2) 직접 생성\n",
        "df_midterm <- data.frame(english = c(70,80,90,100),\n",
        "                         math = c(50,60,70,80),\n",
        "                         class = c(1,1,2,2))\n",
        "df_midterm"
      ],
      "metadata": {
        "id": "ydfnW0DZ5lxF"
      },
      "execution_count": null,
      "outputs": []
    },
    {
      "cell_type": "code",
      "source": [
        "# 영어 평균 점수\n",
        "mean(df_midterm$english)\n",
        "# 수학 평균 점수\n",
        "mean(df_midterm$math)\n",
        "#"
      ],
      "metadata": {
        "id": "tRIMesen59FL"
      },
      "execution_count": null,
      "outputs": []
    },
    {
      "cell_type": "code",
      "source": [
        "# Q1. data.frame()과 c()를 조합해서 표의 내용을 데이터 프레임으로 만들어 출력해보세요.\n",
        "# fruit\tprice\tquantity\n",
        "# apple\t1800\t24\n",
        "# strawberry\t1500\t38\n",
        "# water-melon\t3000\t13\n",
        "sales <- data.frame(fruit = c(\"apple\", \"strawberry\", \"water-melon\"),\n",
        "                    price = c(1800, 1500, 3000),\n",
        "                    quantity = c(24, 38, 13))\n",
        "sales\n",
        "# Q2. 앞에서 만든 데이터 프레임을 이용해서 과일 가격 평균, 판매량 평균을 구해보세요.\n",
        "mean(sales$price)\n",
        "mean(sales$quantity)\n",
        "#"
      ],
      "metadata": {
        "id": "8_nTKWPx6WK1"
      },
      "execution_count": null,
      "outputs": []
    },
    {
      "cell_type": "code",
      "source": [
        "# 외부데이터 불러오기\n",
        "# 엑셀데이터\n",
        "library(readxl)\n",
        "df_exam <- read_excel(\"./data/excel_exam.xlsx\")\n",
        "head(df_exam)\n",
        "# 평균\n",
        "mean(df_exam$math)\n",
        "mean(df_exam$english)\n",
        "mean(df_exam$science)"
      ],
      "metadata": {
        "id": "sriQDcgE8MpE"
      },
      "execution_count": null,
      "outputs": []
    },
    {
      "cell_type": "code",
      "source": [
        "# 열 이름이 없는 경우\n",
        "df_exam <- read_excel(\"./data/excel_exam_novar.xlsx\", col_names = F)\n",
        "head(df_exam)\n",
        "colnames(df_exam) <- c(\"id\",\"class\",\"math\",\"english\",\"science\")\n",
        "head(df_exam)"
      ],
      "metadata": {
        "id": "DQ94PUg_9tAu"
      },
      "execution_count": null,
      "outputs": []
    },
    {
      "cell_type": "code",
      "source": [
        "# 데이터가 시트로 구별되어 있는 경우\n",
        "# 시트 번호\n",
        "df_exam <- read_excel(\"./data/excel_exam_sheet.xlsx\", sheet = 3)\n",
        "head(df_exam)"
      ],
      "metadata": {
        "id": "Zd7jLP2g-iBF"
      },
      "execution_count": null,
      "outputs": []
    },
    {
      "cell_type": "code",
      "source": [
        "# 시트 이름\n",
        "df_exam <- read_excel(\"./data/excel_exam_sheet.xlsx\", sheet = \"Sheet3\")\n",
        "head(df_exam)\n",
        "df_exam <- read_excel(\"./data/excel_exam_sheet.xlsx\", sheet = \"exam\")\n",
        "head(df_exam)"
      ],
      "metadata": {
        "id": "RdApwz58C_qO"
      },
      "execution_count": null,
      "outputs": []
    },
    {
      "cell_type": "code",
      "source": [
        "# csv데이터\n",
        "# 열 이름이 있는 경우\n",
        "df_csv_exam <- read.csv(\"./data/csv_exam.csv\")\n",
        "head(df_csv_exam)"
      ],
      "metadata": {
        "id": "NAtr7aY8DceH"
      },
      "execution_count": null,
      "outputs": []
    },
    {
      "cell_type": "code",
      "source": [
        "# 열 이름이 없는 경우\n",
        "df_csv_exam <- read.csv(\"./data/csv_exam.csv\", header = F)\n",
        "#\n",
        "head(df_csv_exam)"
      ],
      "metadata": {
        "id": "nB4ygeLADyvY"
      },
      "execution_count": null,
      "outputs": []
    },
    {
      "cell_type": "code",
      "source": [
        "# 텍스트데이터\n",
        "df_txt_exam <- read.csv(\"./data/csv_exam.txt\", sep = \"\\t\")\n",
        "str(df_txt_exam)\n",
        "#"
      ],
      "metadata": {
        "id": "03csa9lzErS3"
      },
      "execution_count": null,
      "outputs": []
    },
    {
      "cell_type": "code",
      "source": [
        "# 데이터 저장하기\n",
        "sales\n",
        "# csv파일로 저장하기\n",
        "write.csv(sales, file = \"./data/sales.csv\")\n",
        "write.csv(sales, file = \"./data/sales.csv\", row.names = FALSE)"
      ],
      "metadata": {
        "id": "fxX8Hh2LFEuY"
      },
      "execution_count": null,
      "outputs": []
    },
    {
      "cell_type": "code",
      "source": [
        "# 데이터 객체 삭제\n",
        "rm(sales)\n",
        "sales"
      ],
      "metadata": {
        "id": "et2fnDilF-lx"
      },
      "execution_count": null,
      "outputs": []
    },
    {
      "cell_type": "code",
      "source": [
        "# csv파일 불러오기\n",
        "sales <- read.csv(\"./data/sales.csv\")\n",
        "head(sales)\n",
        "#"
      ],
      "metadata": {
        "id": "pmTtQrZ3G_LJ"
      },
      "execution_count": null,
      "outputs": []
    },
    {
      "cell_type": "code",
      "source": [
        "# rdata로 저장하기\n",
        "save(sales, file = \"./data/sales.rda\")\n",
        "# 데이터 객체 삭제\n",
        "rm(sales)\n",
        "sales\n",
        "# rdata 불러오기\n",
        "load(\"./data/sales.rda\")\n",
        "sales"
      ],
      "metadata": {
        "id": "x7USaaV1HIAJ"
      },
      "execution_count": null,
      "outputs": []
    },
    {
      "cell_type": "code",
      "source": [
        "# 여러개의 객체 저장하기 = rda\n",
        "sales <- data.frame(fruit = c(\"apple\", \"strawberry\", \"water-melon\"),\n",
        "                    price = c(1800, 1500, 3000),\n",
        "                    quantity = c(24, 38, 13))\n",
        "df_midterm <- data.frame(english = c(70,80,90,100),\n",
        "                         math = c(50,60,70,80),\n",
        "                         class = c(1,1,2,2))\n",
        "save(sales, df_midterm, file = \"./data/sample.rda\")\n",
        "load(\"./data/sample.rda\")"
      ],
      "metadata": {
        "id": "RsBp-MtOHdfi"
      },
      "execution_count": null,
      "outputs": []
    },
    {
      "cell_type": "code",
      "source": [
        "# RDS 도 있으나, 할당하는 방식으로 불러와야 함\n",
        "saveRDS(df_midterm,file = \"./data/df_midterm.rds\")\n",
        "df_midterm <- readRDS(\"./data/df_midterm.rds\")\n",
        "df_midterm\n",
        "# 여러 개 저장 안됨\n",
        "saveRDS(sales, df_midterm, file = \"./data/sample.rds\")\n",
        "#"
      ],
      "metadata": {
        "id": "qPYDhmO2H-pS"
      },
      "execution_count": null,
      "outputs": []
    },
    {
      "cell_type": "code",
      "source": [
        "# 내장데이터 불러오기\n",
        "mpg <- as.data.frame(ggplot2::mpg)\n",
        "# 데이터 앞부분 보기, 기본 값이 6개의 행\n",
        "head(mpg)\n",
        "# 2개의 행만 보고 싶다면\n",
        "head(mpg, 2)\n",
        "# 데이터 뒤부분 보기, 기본 값이 6개의 행\n",
        "tail(mpg)\n",
        "# 2개의 행만 보고 싶다면\n",
        "tail(mpg, 2)\n",
        "# 데이터 전체 구조나 속성 보기\n",
        "str(mpg)\n",
        "# 차원(행과 열의 개수) 출력\n",
        "dim(mpg)\n",
        "# 행 개수만 알고 싶다면\n",
        "dim(mpg)[1]\n",
        "# 열 개수만 알고 싶다면\n",
        "dim(mpg)[2]\n",
        "# 새로운 창에서 전체 데이터 보기\n",
        "View(mpg)"
      ],
      "metadata": {
        "id": "_J5O5L90Iabq"
      },
      "execution_count": null,
      "outputs": []
    },
    {
      "cell_type": "code",
      "source": [
        "# 데이터 분포 보기\n",
        "summary(mpg)\n",
        "table(mpg$trans)\n",
        "table(mpg$model)\n",
        "#"
      ],
      "metadata": {
        "id": "_x-b1NNJMV3y"
      },
      "execution_count": null,
      "outputs": []
    },
    {
      "cell_type": "code",
      "source": [
        "# 데이터 수정\n",
        "library(tidyverse)\n",
        "# 샘플 데이터 생성\n",
        "df_raw <- data.frame(var1 = c(1,2,1),\n",
        "                     var2 = c(2,3,2))\n",
        "df_raw\n",
        "# 복사본 만들기\n",
        "df_new <- df_raw\n",
        "df_new\n",
        "# 변수 이름 변경\n",
        "df_new <- rename(df_new,\n",
        "                 v2 = var2)\n",
        "df_new\n",
        "#"
      ],
      "metadata": {
        "id": "L4yqcnmkQgBT"
      },
      "execution_count": null,
      "outputs": []
    },
    {
      "cell_type": "code",
      "source": [
        "# mpg 데이터의 변수명은 긴 단어를 짧게 줄인 축약어로 되어있습니다. cty 변수는 도시 연비, hwy 변수는 고속도로 연비를 의미합니다. 변수명을 이해하기 쉬운 단어로 바꾸려고 합니다. mpg 데이터를 이용해서 아래 문제를 해결해 보세요.\n",
        "# •\tQ1. ggplot2 패키지의 mpg 데이터를 사용할 수 있도록 불러온 뒤 복사본을 만드세요.\n",
        "mpg <- as.data.frame(ggplot2::mpg)\n",
        "mpg_new <- mpg\n",
        "# •\tQ2. 복사본 데이터를 이용해서 cty는 city로, hwy는 highway로 변수명을 수정하세요.\n",
        "mpg_new <- rename(mpg_new,\n",
        "                  city = cty,\n",
        "                  highway = hwy)\n",
        "mpg_new\n",
        "# •\tQ3. 데이터 일부를 출력해서 변수명이 바뀌었는지 확인해 보세요. 아래와 같은 결과물이 출력되어야 합니다.\n",
        "head(mpg_new)\n",
        "#"
      ],
      "metadata": {
        "id": "GIR4KTvvSNo8"
      },
      "execution_count": null,
      "outputs": []
    },
    {
      "cell_type": "code",
      "source": [
        "# 새로운 변수 만들기\n",
        "df <- data.frame(var1 = c(4,8,6),\n",
        "                 var2 = c(2,5,4))\n",
        "df\n",
        "# 합계 변수\n",
        "df$sum <- df$var1 + df$var2\n",
        "df\n",
        "# 평균 변수\n",
        "df$mean <- df$sum/2\n",
        "df\n",
        "#\n",
        "(df$var1 + df$var2)/ncol(df)"
      ],
      "metadata": {
        "id": "wO3T7AAdUZc9"
      },
      "execution_count": null,
      "outputs": []
    },
    {
      "cell_type": "code",
      "source": [
        "# 통합연비 변수\n",
        "mpg$total <- (mpg$cty + mpg$hwy)/2\n",
        "head(mpg)\n",
        "summary(mpg$total)\n",
        "hist(mpg$total)"
      ],
      "metadata": {
        "id": "V9tQk03qVVye"
      },
      "execution_count": null,
      "outputs": []
    },
    {
      "cell_type": "code",
      "source": [
        "# 통합연비 변수를 범주형 변수로 만들기\n",
        "# ifelse(조건,조건을 만족할 때 값, 조건을 만족하지 않을 때 값)\n",
        "mpg$test <- ifelse(mpg$total >= 20, \"pass\", \"fail\")\n",
        "head(mpg)\n",
        "# 빈도표\n",
        "table(mpg$test)\n",
        "# 막대그래프\n",
        "library(ggplot2)\n",
        "qplot(mpg$test)"
      ],
      "metadata": {
        "id": "MaLJ9D2cWEc3"
      },
      "execution_count": null,
      "outputs": []
    },
    {
      "cell_type": "code",
      "source": [
        "# 3개의 그룹을 가지는 범주형 변수 만들기\n",
        "# 25보다 크면 A등급\n",
        "# 20보다 크면 B등급\n",
        "# 나머지는 C등급\n",
        "mpg$grade <- ifelse(mpg$total >= 25, \"A\",\n",
        "                    ifelse(mpg$total >= 20, \"B\", \"C\"))\n",
        "head(mpg)\n",
        "table(mpg$grade)\n",
        "qplot(mpg$grade)"
      ],
      "metadata": {
        "id": "xDlu24dnYM1B"
      },
      "execution_count": null,
      "outputs": []
    },
    {
      "cell_type": "code",
      "source": [
        "# 4개의 그룹을 가지는 범주형 변수 만들기\n",
        "# 30보다 크면 A등급\n",
        "# 25보다 크면 B등급\n",
        "# 20보다 크면 C등급\n",
        "# 나머지는 D등급\n",
        "mpg$grade_new <- ifelse(mpg$total >= 30, \"A\",\n",
        "                    ifelse(mpg$total >= 25, \"B\",\n",
        "                           ifelse(mpg$total >= 20, \"C\", \"D\")))\n",
        "head(mpg)\n",
        "table(mpg$grade_new)\n",
        "qplot(mpg$grade_new)\n",
        "#"
      ],
      "metadata": {
        "id": "6BTrRwm8Y3bX"
      },
      "execution_count": null,
      "outputs": []
    },
    {
      "cell_type": "code",
      "source": [
        "# ggplot2 패키지에는 미국 동북중부 437개 지역의 인구통계 정보를 담은 midwest라는 데이터가 포함되어 있습니다. midwest 데이터를 사용해 데이터 분석 문제를 해결해보세요.\n",
        "# •\t문제1. ggplot2의 midwest 데이터를 데이터 프레임 형태로 불러와서 데이터의 특성을 파악하세요.\n",
        "library(ggplot2)\n",
        "midwest <- as.data.frame(ggplot2::midwest)\n",
        "head(midwest)\n",
        "tail(midwest)\n",
        "str(midwest)\n",
        "View(midwest)\n",
        "summary(midwest)\n",
        "# •\t문제2. poptotal(전체 인구)을 total로, popasian(아시아 인구)을 asian으로 변수명을 수정하세요.\n",
        "library(tidyverse)\n",
        "midwest <- rename(midwest,\n",
        "                  total = poptotal,\n",
        "                  asian = popasian)\n",
        "head(midwest)\n",
        "# •\t문제3. total, asian 변수를 이용해 '전체 인구 대비 아시아 인구 백분율' 파생변수를 만들고, 히스토그램을 만들어 도시들이 어떻게 분포하는지 살펴보세요.\n",
        "midwest$asian_pct <- (midwest$asian/midwest$total)*100\n",
        "head(midwest)\n",
        "hist(midwest$asian_pct)\n",
        "# •\t문제4. 아시아 인구 백분율 전체 평균을 구하고, 평균을 초과하면 \"large\", 그 외에는 \"small\"을 부여하는 파생변수를 만들어 보세요.\n",
        "mean(midwest$asian_pct)\n",
        "midwest$asian_pct_group <- ifelse(midwest$asian_pct > 0.4872462, \"large\", \"small\")\n",
        "head(midwest)\n",
        "# ifelse(midwest$asian_pct > mean(midwest$asian_pct), \"large\", \"small\")\n",
        "# •\t문제5. \"large\"와 \"small\"에 해당하는 지역이 얼마나 되는지, 빈도표와 빈도 막대 그래프를 만들어 확인해 보세요.\n",
        "table(midwest$asian_pct_group)\n",
        "qplot(midwest$asian_pct_group)\n",
        "#\n"
      ],
      "metadata": {
        "id": "sTh01VShZegB"
      },
      "execution_count": null,
      "outputs": []
    },
    {
      "cell_type": "code",
      "source": [
        "# 데이터 전처리\n",
        "library(tidyverse)\n",
        "exam <- read.csv(\"./data/csv_exam.csv\")\n",
        "head(exam)\n",
        "# 파이프라인: shift + ctrl + m\n",
        "# %>%\n",
        "# 조건에 맞는 행(데이터) 추출\n",
        "table(exam$class)\n",
        "# 같다\n",
        "exam %>%\n",
        "  filter(class == 1)\n",
        "exam %>%\n",
        "  filter(class == 6)\n",
        "# 같지않다\n",
        "exam %>%\n",
        "  filter(class != 5)\n",
        "# 크다 = 초과\n",
        "exam %>%\n",
        "  filter(math > 80)\n",
        "# 크거나 같다 = 이상\n",
        "exam %>%\n",
        "  filter(math >= 80)\n",
        "# 작다 = 미만\n",
        "exam %>%\n",
        "  filter(english < 68)\n",
        "# 작거나 같다 = 이하\n",
        "exam %>%\n",
        "  filter(english <= 68)"
      ],
      "metadata": {
        "id": "6WEA0BdofCyK"
      },
      "execution_count": null,
      "outputs": []
    },
    {
      "cell_type": "code",
      "source": [
        "# 여러 개의 조건\n",
        "# and = 교집합 / or 합집합\n",
        "# and = 모든 조건을 만족하는 경우\n",
        "exam %>%\n",
        "  filter(class == 2 & science > 60)\n",
        "# or = 조건 중 하나라도 만족하는 경우\n",
        "exam %>%\n",
        "  filter(math >= 90 | english >= 80)\n",
        "# or 조건을 여러개 사용\n",
        "exam %>%\n",
        "  filter(class == 1 | class == 3 | class == 5)\n",
        "exam %>%\n",
        "  filter(class %in% c(1, 3, 5))"
      ],
      "metadata": {
        "id": "BTpeF5qiiyF7"
      },
      "execution_count": null,
      "outputs": []
    },
    {
      "cell_type": "code",
      "source": [
        "# 조건에 맞는 행을 데이터로 저장\n",
        "class135 <- exam %>%\n",
        "  filter(class == 1 | class == 3 | class == 5)\n",
        "class135\n",
        "# 1반만 추출하여 저장\n",
        "class1 <- exam %>%\n",
        "  filter(class == 1)\n",
        "# 3반만 추출하여 저장\n",
        "class3 <- exam %>%\n",
        "  filter(class == 3)\n",
        "class1;class3\n",
        "# 각 반의 수학 평균 점수\n",
        "mean(class1$math)\n",
        "mean(class3$math)\n",
        "#"
      ],
      "metadata": {
        "id": "QG8HjD1aj9fK"
      },
      "execution_count": null,
      "outputs": []
    },
    {
      "cell_type": "code",
      "source": [
        "# 산술연산자\n",
        "# 더하기\n",
        "3+4\n",
        "# 빼기\n",
        "4-3\n",
        "# 곱하기\n",
        "3*2\n",
        "# 나누기\n",
        "6/2\n",
        "# 제곱\n",
        "2^2\n",
        "2**2\n",
        "2^3\n",
        "2**3\n",
        "2^4\n",
        "2**4\n",
        "# 나누기의 몫\n",
        "4 %/% 2\n",
        "5 %/% 2\n",
        "# 나누기의 나머지\n",
        "4 %% 2\n",
        "5 %% 2\n",
        "#"
      ],
      "metadata": {
        "id": "pfBzymrtlAx8"
      },
      "execution_count": null,
      "outputs": []
    },
    {
      "cell_type": "code",
      "source": [
        "# mpg 데이터를 이용해 분석 문제를 해결해 보세요.\n",
        "mpg <- as.data.frame(ggplot2::mpg)\n",
        "# •\tQ1. 자동차 배기량에 따라 고속도로 연비가 다른지 알아보려고 합니다. displ(배기량)이 4 이하인 자동차와 5 이상인 자동차 중 어떤 자동차의 hwy(고속도로 연비)가 평균적으로 더 높은지 알아보세요.\n",
        "displ_low <- mpg %>% filter(displ <= 4)\n",
        "displ_high <- mpg %>% filter(displ >= 5)\n",
        "mean(displ_low$hwy)\n",
        "mean(displ_high$hwy)\n",
        "# •\tQ2. 자동차 제조 회사에 따라 도시 연비가 다른지 알아보려고 합니다. \"audi\"와 \"toyota\" 중 어느 manufacturer(자동차 제조 회사)의 cty(도시 연비)가 평균적으로 더 높은지 알아보세요.\n",
        "audi <- mpg %>% filter(manufacturer == \"audi\")\n",
        "toyota <- mpg %>% filter(manufacturer == \"toyota\")\n",
        "mean(audi$cty)\n",
        "mean(toyota$cty)\n",
        "# •\tQ3. \"chevrolet\", \"ford\", \"honda\" 자동차의 고속도로 연비 평균을 알아보려고 합니다. 이 회사들의 자동차를 추출한 뒤 hwy 전체 평균을 구해보세요.\n",
        "mpg_sub <- mpg %>% filter(manufacturer %in% c(\"chevrolet\", \"ford\", \"honda\"))\n",
        "mean(mpg_sub$hwy)\n",
        "#"
      ],
      "metadata": {
        "id": "iN3278OPlhIj"
      },
      "execution_count": null,
      "outputs": []
    },
    {
      "cell_type": "code",
      "source": [
        "# 열 = 변수 추출\n",
        "head(exam)\n",
        "# 변수 하나 추출\n",
        "exam %>%\n",
        "  select(math)\n",
        "exam %>%\n",
        "  select(science)\n",
        "# 변수 여러 개 추출\n",
        "exam %>%\n",
        "  select(math, english, science)\n",
        "# 특정 변수를 제외하고 추출\n",
        "exam %>%\n",
        "  select(-id)\n",
        "exam %>%\n",
        "  select(-id, -math)\n",
        "# 변수를 추출하여 저장\n",
        "score <- exam %>%\n",
        "  select(math, english, science)\n",
        "score\n",
        "# 행과 열을 동시에 추출\n",
        "exam %>%\n",
        "  filter(class == 3) %>%\n",
        "  select(science)\n",
        "# 행과 열을 동시에 추출하여 저장\n",
        "class3_science <- exam %>%\n",
        "  filter(class == 3) %>%\n",
        "  select(science)\n",
        "class3_science\n",
        "# 데이터 앞부분만 빠르게 조회하고 싶을 때\n",
        "# 3개의 행만 보기\n",
        "exam %>%\n",
        "  filter(class %in% c(1, 3, 5)) %>%\n",
        "  select(english, science) %>%\n",
        "  head(3)\n",
        "# 기본값 = 6개 행 보기\n",
        "exam %>%\n",
        "  filter(class %in% c(1, 3, 5)) %>%\n",
        "  select(english, science) %>%\n",
        "  head\n",
        "exam %>%\n",
        "  filter(class %in% c(1, 3, 5)) %>%\n",
        "  select(english, science) %>%\n",
        "  head()\n",
        "#"
      ],
      "metadata": {
        "id": "OLM3UnvB5Xj8"
      },
      "execution_count": null,
      "outputs": []
    },
    {
      "cell_type": "code",
      "source": [
        "# mpg 데이터를 이용해서 분석 문제를 해결해보세요.\n",
        "mpg <- as.data.frame(ggplot2::mpg)\n",
        "# •\tQ1. mpg 데이터는 11개 변수로 구성되어 있습니다. 이 중 일부만 추출해서 분석에 활용하려고 합니다. mpg 데이터에서 class(자동차 종류), cty(도시 연비) 변수를 추출해 새로운 데이터를 만드세요. 새로 만든 데이터의 일부를 출력해서 두 변수로만 구성되어 있는지 확인하세요.\n",
        "mpg_new <- mpg %>%\n",
        "  select(class, cty)\n",
        "head(mpg_new)\n",
        "# •\tQ2. 자동차 종류에 따라 도시 연비가 다른지 알아보려고 합니다. 앞에서 추출한 데이터를 이용해서 class(자동차 종류)가 \"suv\"인 자동차와 \"compact\"인 자동차 중 어떤 자동차의 cty(도시 연비)가 더 높은지 알아보세요.\n",
        "suv <- mpg_new %>%\n",
        "  filter(class == \"suv\")\n",
        "compact <- mpg_new %>%\n",
        "  filter(class == \"compact\")\n",
        "mean(suv$cty)\n",
        "mean(compact$cty)\n",
        "#"
      ],
      "metadata": {
        "id": "MYdnD8aC6j8D"
      },
      "execution_count": null,
      "outputs": []
    },
    {
      "cell_type": "code",
      "source": [
        "# 정렬하기\n",
        "library(tidyverse)\n",
        "exam <- read.csv(\"./data/csv_exam.csv\")\n",
        "head(exam)\n",
        "# 오름차순 = 낮은 값에서 높은 값으로 정렬\n",
        "exam %>%\n",
        "  arrange(id)\n",
        "exam %>%\n",
        "  arrange(math)\n",
        "# 내림차순 = 높은 값에서 낮은 값으로 정렬\n",
        "exam %>%\n",
        "  arrange(desc(math))\n",
        "# 변수 여러개로 정렬\n",
        "exam %>%\n",
        "  arrange(class, science)\n",
        "exam %>%\n",
        "  arrange(class, desc(science))\n",
        "#"
      ],
      "metadata": {
        "id": "2D1aZ9X59Zjs"
      },
      "execution_count": null,
      "outputs": []
    },
    {
      "cell_type": "code",
      "source": [
        "# mpg 데이터를 이용해서 분석 문제를 해결해보세요.\n",
        "mpg <- as.data.frame(ggplot2::mpg)\n",
        "# •\t\"audi\"에서 생산한 자동차 중에 어떤 자동차 모델의 hwy(고속도로 연비)가 높은지 알아보려고 합니다. \"audi\"에서 생산한 자동차 중 hwy가 1~5위에 해당하는 자동차의 데이터를 출력하세요.\n",
        "mpg %>%\n",
        "  filter(manufacturer == \"audi\") %>%\n",
        "  arrange(desc(hwy)) %>%\n",
        "  head(5)\n",
        "#"
      ],
      "metadata": {
        "id": "9RxATWQ7-fUc"
      },
      "execution_count": null,
      "outputs": []
    },
    {
      "cell_type": "code",
      "source": [
        "# 새로운 변수 생성\n",
        "str(exam)\n",
        "# 변수 하나\n",
        "exam %>%\n",
        "  mutate(score_sum = math + english + science)\n",
        "# 변수 2개\n",
        "exam %>%\n",
        "  mutate(score_sum = math + english + science,\n",
        "         score_mean = (math + english + science)/3)\n",
        "exam %>%\n",
        "  mutate(score_sum = math + english + science,\n",
        "         score_mean = score_sum/3)"
      ],
      "metadata": {
        "id": "jkTc0uQE_WC0"
      },
      "execution_count": null,
      "outputs": []
    },
    {
      "cell_type": "code",
      "source": [
        "# 범주형 변수 만들기\n",
        "exam %>%\n",
        "  mutate(math_test = ifelse(math >= 80, \"pass\", \"fail\"))\n",
        "# 새로 만든 변수를 이용해서 바로 함수에 적용\n",
        "exam %>%\n",
        "  mutate(score_sum = math + english + science) %>%\n",
        "  arrange(score_sum)\n",
        "exam %>%\n",
        "  mutate(score_sum = math + english + science) %>%\n",
        "  arrange(desc(score_sum))\n",
        "#"
      ],
      "metadata": {
        "id": "0vUVkkkyAZaV"
      },
      "execution_count": null,
      "outputs": []
    },
    {
      "cell_type": "code",
      "source": [
        "# mpg 데이터를 이용해서 분석 문제를 해결해보세요.\n",
        "mpg <- as.data.frame(ggplot2::mpg)\n",
        "# mpg 데이터는 연비를 나타내는 변수가 hwy(고속도로 연비), cty(도시 연비) 두 종류로 분리되어 있습니다. 두 변수를 각각 활용하는 대신 하나의 통합 연비 변수를 만들어 분석하려고 합니다.\n",
        "# •\tQ1. mpg 데이터 복사본을 만들고, cty와 hwy를 더한 '합산 연비 변수'를 추가하세요.\n",
        "mpg_new <- mpg\n",
        "mpg_new <- mpg_new %>%\n",
        "  mutate(sum = cty + hwy)\n",
        "head(mpg_new)\n",
        "# •\tQ2. 앞에서 만든 '합산 연비 변수'를 2로 나눠 '평균 연비 변수'를 추가하세요.\n",
        "mpg_new <- mpg_new %>%\n",
        "  mutate(mean = sum/2)\n",
        "head(mpg_new)\n",
        "# •\tQ3. '평균 연비 변수'가 가장 높은 자동차 3종의 데이터를 출력하세요.\n",
        "mpg_new %>%\n",
        "  arrange(desc(mean)) %>%\n",
        "  head(3)\n",
        "# •\tQ4. 1~3번 문제를 해결할 수 있는 하나로 연결된 tidyverse(dplyr) 문을 만들어 출력하세요. 데이터는 복사본 대신 mpg 원본을 이용하세요.\n",
        "mpg %>%\n",
        "  mutate(sum = cty + hwy,\n",
        "         mean = sum/2) %>%\n",
        "  arrange(desc(mean)) %>%\n",
        "  head(3)\n",
        "#"
      ],
      "metadata": {
        "id": "g5GSNLYqBFUG"
      },
      "execution_count": null,
      "outputs": []
    },
    {
      "cell_type": "code",
      "source": [
        "# 요약하기\n",
        "exam %>%\n",
        "  summarise(math_mean = mean(math),\n",
        "            english_mean = mean(english),\n",
        "            science_mean = mean(science))\n",
        "# 그룹별로 요약하기\n",
        "exam %>%\n",
        "  group_by(class) %>%\n",
        "  summarise(math_mean = mean(math),\n",
        "            english_mean = mean(english),\n",
        "            science_mean = mean(science))\n",
        "# 다른 요약 통계량\n",
        "exam %>%\n",
        "  group_by(class) %>%\n",
        "  summarise(science_mean = mean(science),\n",
        "            science_sum = sum(science),\n",
        "            science_median = median(science),\n",
        "            science_frequency = n())\n",
        "# 제조회사와 구동방식 별로 고속도로 연비 평균값\n",
        "mpg %>%\n",
        "  group_by(manufacturer, drv) %>%\n",
        "  summarise(hwy_mean = mean(hwy))\n",
        "#"
      ],
      "metadata": {
        "id": "gKiCtzG7HNp6"
      },
      "execution_count": null,
      "outputs": []
    },
    {
      "cell_type": "code",
      "source": [
        "# 회사별로 \"suv\" 자동차의 도시 및 고속도로 통합 연비 평균을 구해 내림차순으로 정렬하고, 1~5위까지 출력하기\n",
        "# 1) filter: \"suv\" 자동차\n",
        "# 2) mutate: 통합연비 변수 생성\n",
        "# 3) group_by: 회사별로 그룹화\n",
        "# 4) summarise: 통합연비 평균값 계산\n",
        "# 5) arrange: 통합연비 평균값으로 내림차순 정렬\n",
        "# 6) head: 5개의 행 출력\n",
        "mpg <- as.data.frame(ggplot2::mpg)\n",
        "head(mpg)\n",
        "# 문제 풀이\n",
        "mpg %>%\n",
        "  filter(class == \"suv\") %>%\n",
        "  mutate(total = (cty + hwy)/2) %>%\n",
        "  group_by(manufacturer) %>%\n",
        "  summarise(mean_total = mean(total)) %>%\n",
        "  arrange(desc(mean_total)) %>%\n",
        "  head(5)\n",
        "#"
      ],
      "metadata": {
        "id": "tHZhZWvEKGyi"
      },
      "execution_count": null,
      "outputs": []
    },
    {
      "cell_type": "code",
      "source": [
        "# mpg 데이터를 이용해서 분석 문제를 해결해 보세요.\n",
        "mpg <- as.data.frame(ggplot2::mpg)\n",
        "# •\tQ1. mpg 데이터의 class는 \"suv\", \"compact\" 등 자동차를 특징에 따라 일곱 종류로 분류한 변수입니다. 어떤 차종의 연비가 높은지 비교해보려고 합니다. class별 cty 평균을 구해보세요.\n",
        "mpg %>%\n",
        "  group_by(class) %>%\n",
        "  summarise(cty_mean = mean(cty))\n",
        "# •\tQ2. 앞 문제의 출력 결과는 class 값 알파벳 순으로 정렬되어 있습니다. 어떤 차종의 도시 연비가 높은지 쉽게 알아볼 수 있도록 cty 평균이 높은 순으로 정렬해 출력하세요.\n",
        "mpg %>%\n",
        "  group_by(class) %>%\n",
        "  summarise(cty_mean = mean(cty)) %>%\n",
        "  arrange(desc(cty_mean))\n",
        "# •\tQ3. 어떤 회사 자동차의 hwy(고속도로 연비)가 가장 높은지 알아보려고 합니다. hwy 평균이 가장 높은 회사 세 곳을 출력하세요.\n",
        "mpg %>%\n",
        "  group_by(manufacturer) %>%\n",
        "  summarise(hwy_mean = mean(hwy)) %>%\n",
        "  arrange(desc(hwy_mean)) %>%\n",
        "  head(3)\n",
        "# •\tQ4. 어떤 회사에서 \"compact\"(경차) 차종을 가장 많이 생산하는지 알아보려고 합니다. 각 회사별 \"compact\" 차종 수를 내림차순으로 정렬해 출력하세요.\n",
        "mpg %>%\n",
        "  filter(class == \"compact\") %>%\n",
        "  group_by(manufacturer) %>%\n",
        "  summarise(freq = n()) %>%\n",
        "  arrange(desc(freq))\n",
        "#"
      ],
      "metadata": {
        "id": "OyvVOgzPK9-o"
      },
      "execution_count": null,
      "outputs": []
    },
    {
      "cell_type": "code",
      "source": [
        "# 데이터 합치기\n",
        "# 데이터 준비\n",
        "data1 <- data.frame(id = c(1,2,3,4,5),\n",
        "                    midterm = c(60,80,70,90,85))\n",
        "data2 <- data.frame(id = c(1,2,3,4,5),\n",
        "                    final = c(70,83,65,95,80))\n",
        "data1;data2\n",
        "# 좌우로 합치기 = 다른 열\n",
        "# 왼쪽 테이블 기준으로 합치기\n",
        "data <- left_join(data1, data2, by = \"id\")\n",
        "# 반 별 선생님 이름 데이터 합치기\n",
        "name <- data.frame(class = c(1,2,3,4,5),\n",
        "                   name = c(\"SONHM\",\"HWANGHC\",\"KIMMJ\",\"KDB\",\"CHABUM\"))\n",
        "# 학생들의 시험 점수 데이터가 모두 필요하므로 왼쪽 테이블은 exam\n",
        "exam_name1 <- left_join(exam, name, by = \"class\")\n",
        "exam_name2 <- merge(exam, name, by.x = \"class\")\n",
        "# 교집합으로 합치기\n",
        "data <- merge(data1, data2, by = \"id\")"
      ],
      "metadata": {
        "id": "Jo88l8CsNwkS"
      },
      "execution_count": null,
      "outputs": []
    },
    {
      "cell_type": "code",
      "source": [
        "# 위 아래로 합치기 = 같은 열\n",
        "data1 <- data.frame(id = c(1,2,3,4,5),\n",
        "                    test = c(60,80,70,90,85))\n",
        "data2 <- data.frame(id = c(6,7,8,9,10),\n",
        "                    test = c(70,83,65,95,80))\n",
        "data1;data2\n",
        "#\n",
        "data <- bind_rows(data1,data2)\n",
        "data\n",
        "rbind(data1,data2)\n",
        "#"
      ],
      "metadata": {
        "id": "0d2NI4unPjIq"
      },
      "execution_count": null,
      "outputs": []
    },
    {
      "cell_type": "code",
      "source": [
        "# mpg 데이터를 이용해서 분석 문제를 해결해 보세요.\n",
        "mpg <- as.data.frame(ggplot2::mpg)\n",
        "# mpg 데이터의 fl 변수는 자동차에 사용하는 연료(fuel)를 의미합니다. 아래는 자동차 연료별 가격을 나타낸 표입니다.\n",
        "fuel <- data.frame(fl = c(\"c\", \"d\", \"e\", \"p\", \"r\"),\n",
        "                   price_fl = c(2.35, 2.38, 2.11, 2.76, 2.22),\n",
        "                   stringsAsFactors = F)\n",
        "fuel\n",
        "head(mpg)\n",
        "# •\tQ1. mpg 데이터에는 연료 종류를 나타낸 fl 변수는 있지만 연료 가격을 나타낸 변수는 없습니다. 위에서 만든 fuel 데이터를 이용해서 mpg 데이터에 price_fl(연료 가격) 변수를 추가하세요.\n",
        "mpg_fuel <- left_join(mpg, fuel, by = \"fl\")\n",
        "head(mpg_fuel)\n",
        "# •\tQ2. 연료 가격 변수가 잘 추가됐는지 확인하기 위해서 model, fl, price_fl 변수를 추출해 앞부분 5행을 출력해 보세요.\n",
        "mpg_fuel %>%\n",
        "  select(model, fl, price_fl) %>%\n",
        "  head(5)\n",
        "#"
      ],
      "metadata": {
        "id": "YX8_KTJKQtmb"
      },
      "execution_count": null,
      "outputs": []
    },
    {
      "cell_type": "code",
      "source": [
        "# 데이터 정제\n",
        "# 결측치 = MV(missing value) = NULL = NA\n",
        "df <- data.frame(sex = c(\"M\", \"F\", NA, \"M\", \"F\"),\n",
        "                 score = c(5, 4, 3, 4, NA))\n",
        "df\n",
        "# 논리형으로 반환(참, 거짓)\n",
        "is.na(df)\n",
        "# NA 개수\n",
        "table(is.na(df))\n",
        "# 현재 데이터에는 결측치가 2개 있다\n",
        "# 특정 열에서 NA 개수\n",
        "table(is.na(df$sex))\n",
        "# 현재 열에는 결측치가 1개 있다\n",
        "table(is.na(df$score))\n",
        "# 현재 열에는 결측치가 1개 있다\n",
        "# 결측치가 있는 데이터를 이용해서 함수 사용\n",
        "mean(df$score)\n",
        "# 결측치가 있으면 평균 구할 수 없음\n",
        "# => 결측치를 제거해야 함\n",
        "# NA 제거하는 방법\n",
        "df %>%\n",
        "  filter(!is.na(score)) %>%\n",
        "  summarise(mean(score))\n",
        "mean(df[!is.na(df$score),]$score)\n",
        "mean(df[!is.na(df$score),\"score\"])\n",
        "# 함수에서 제공하는 NA 제거 옵션(na.rm = T)\n",
        "mean(df$score, na.rm = T)\n",
        "# NA 제거해서 저장한 뒤 함수 적용\n",
        "df_nona <- df %>%\n",
        "  filter(!is.na(score))\n",
        "mean(df_nona$score)\n",
        "# 성별과 점수의 NA 동시에 제거\n",
        "df %>%\n",
        "  filter(!is.na(sex) & !is.na(score))\n",
        "# 모든 NA 제거\n",
        "df_omit <- na.omit(df)\n",
        "# 무조건 NA 다 제거하는 것이 좋은 것이 아님\n",
        "# 점수의 평균을 구할 때는 5번째 NA 만 빼고 계산\n",
        "# 성별의 빈도를 계산할 때는 3번째 NA 만 빼고 계산\n",
        "table(df[!is.na(df$sex),\"sex\"])\n",
        "table(df_omit$sex)\n",
        "mean(df[!is.na(df$score),\"score\"])\n",
        "mean(df_omit$score)\n",
        "# exam 데이터로 실습\n",
        "exam <- read.csv(\"./data/csv_exam.csv\")\n",
        "head(exam)\n",
        "# 결측치 만들기\n",
        "exam[c(5,10,15),\"math\"] <- NA\n",
        "exam[c(5,10,15),\"math\"]\n",
        "# NA 있으면 평균 계산 안됨\n",
        "exam %>%\n",
        "  summarise(math_mean = mean(math))\n",
        "# 해결 방법: 1) NA 제거하고 계산\n",
        "exam %>%\n",
        "  filter(!is.na(math)) %>%\n",
        "  summarise(math_mean = mean(math))\n",
        "# 2) 함수의 NA 제거 옵션 사용\n",
        "exam %>%\n",
        "  summarise(math_mean = mean(math, na.rm = T))\n",
        "# 결측치 대체 = imputation = 중심경향척도(평균, 중앙값) 대체\n",
        "mean(exam$math, na.rm = T)\n",
        "# 58.76471 (평균)으로 NA값 대체\n",
        "table(is.na(exam$math))\n",
        "# 현재 결측치 3개를 평균으로 대체\n",
        "exam$math <- ifelse(is.na(exam$math), 58.76471, exam$math)\n",
        "# 결측치 확인해보면 평균으로 대체되어서 결측치는 0개\n",
        "table(is.na(exam$math))\n",
        "#"
      ],
      "metadata": {
        "id": "qFtqMxtJRbYm"
      },
      "execution_count": null,
      "outputs": []
    },
    {
      "cell_type": "code",
      "source": [
        "# mpg 데이터를 이용해서 분석 문제를 해결해 보세요.\n",
        "mpg <- as.data.frame(ggplot2::mpg)\n",
        "# mpg 데이터 원본에는 결측치가 없습니다. 우선 mpg 데이터를 불러와 몇 개의 값을 결측치로 만들겠습니다. 아래 코드를 실행하면 다섯 행의 hwy 변수에 NA가 할당됩니다.\n",
        "mpg[c(65, 124, 131, 153, 212), \"hwy\"]\n",
        "mpg[c(65, 124, 131, 153, 212), \"hwy\"] <- NA\n",
        "mpg[c(65, 124, 131, 153, 212), \"hwy\"]"
      ],
      "metadata": {
        "id": "-UxZ1HM7WpZt"
      },
      "execution_count": null,
      "outputs": []
    },
    {
      "cell_type": "code",
      "source": [
        "# 결측치가 들어있는 mpg 데이터를 활용해서 문제를 해결해보세요.\n",
        "# •\tQ1. drv(구동방식)별로 hwy(고속도로 연비) 평균이 어떻게 다른지 알아보려고 합니다. 분석을 하기 전에 우선 두 변수에 결측치가 있는지 확인해야 합니다. drv 변수와 hwy 변수에 결측치가 몇 개 있는지 알아보세요.\n",
        "table(is.na(mpg$drv))\n",
        "table(is.na(mpg$hwy))\n",
        "# •\tQ2. filter()를 이용해 hwy 변수의 결측치를 제외하고, 어떤 구동방식의 hwy 평균이 높은지 알아보세요. 하나의 dplyr 구문으로 만들어야 합니다.\n",
        "mpg %>%\n",
        "  filter(!is.na(hwy)) %>%\n",
        "  group_by(drv) %>%\n",
        "  summarise(hwy_mean = mean(hwy))\n",
        "#"
      ],
      "metadata": {
        "id": "bIunlCqoaSbv"
      },
      "execution_count": null,
      "outputs": []
    }
  ]
}