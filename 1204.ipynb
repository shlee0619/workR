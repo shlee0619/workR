{
  "nbformat": 4,
  "nbformat_minor": 0,
  "metadata": {
    "colab": {
      "provenance": [],
      "include_colab_link": true
    },
    "kernelspec": {
      "name": "python3",
      "display_name": "Python 3"
    },
    "language_info": {
      "name": "python"
    }
  },
  "cells": [
    {
      "cell_type": "markdown",
      "metadata": {
        "id": "view-in-github",
        "colab_type": "text"
      },
      "source": [
        "<a href=\"https://colab.research.google.com/github/shlee0619/workR/blob/main/1204.ipynb\" target=\"_parent\"><img src=\"https://colab.research.google.com/assets/colab-badge.svg\" alt=\"Open In Colab\"/></a>"
      ]
    },
    {
      "cell_type": "code",
      "execution_count": null,
      "metadata": {
        "id": "WGBrThwMGIUL"
      },
      "outputs": [],
      "source": [
        "library(tidyverse)\n",
        "# 이상치 = outlier\n",
        "# 1) 존재할 수 없는 값 = 남자 1 & 여자 2 인 경우에 3번 값\n",
        "# 2) 극단적인 값 = 사람의 체중 1000kg 극단적으로 높은 값\n",
        "# 데이터 준비하기\n",
        "outlier <- data.frame(sex = c(1,2,1,3,2,1),\n",
        "                      score = c(5,4,3,4,2,99))\n",
        "# 이상치 확인하기\n",
        "# 성별 변수 = 범주형 변수 => 빈도표\n",
        "table(outlier$sex)\n",
        "# 1은 남자, 2는 여자이므로, 나머지 3은 이상치\n",
        "# 점수 변수 = 연속형 변수 => 요약 통계\n",
        "# 점수의 정상 분포는 0 ~ 5점\n",
        "summary(outlier$score)\n",
        "# 최대값 99점은 극단적으로 높은 값\n",
        "# 확인된 이상치는 NA로 변경해줘야 함\n",
        "# NA 해결 방법 동일\n",
        "outlier$sex <- ifelse(outlier$sex == 3, NA, outlier$sex)\n",
        "table(outlier$sex)\n",
        "outlier$sex\n",
        "outlier$score <- ifelse(outlier$score > 5, NA, outlier$score)\n",
        "summary(outlier$score)\n",
        "# 이상치를 결측치(NA)로 변경한 뒤 결측치 제거\n",
        "outlier %>%\n",
        "  filter(!is.na(sex) & !is.na(score)) %>%\n",
        "  group_by(sex) %>%\n",
        "  summarise(score_mean = mean(score))\n",
        "#\n",
        "outlier_omit <- na.omit(outlier)\n",
        "table(outlier$sex)\n",
        "table(outlier_omit$sex)\n",
        "mean(outlier$score, na.rm = T)\n",
        "mean(outlier_omit$score)\n",
        "#"
      ]
    },
    {
      "cell_type": "code",
      "source": [
        "# 이상치 확인하는 통계적 판단 = 데이터 기반 판단\n",
        "mpg <- as.data.frame(ggplot2::mpg)\n",
        "# 상자수염그림\n",
        "cty_bp <- boxplot(mpg$cty)\n",
        "cty_bp$stats\n",
        "# 9는 하한값, 26은 상한값, 이 범위를 벗어나면 이상치\n",
        "mpg$cty <- ifelse(mpg$cty < 9 | mpg$cty > 26, NA, mpg$cty)\n",
        "# NA 를 제거하고 cty 평균 계산\n",
        "mpg %>%\n",
        "  filter(!is.na(cty)) %>%\n",
        "  summarise(mean(cty))\n",
        "#\n",
        "mpg %>%\n",
        "  summarise(mean(cty, na.rm = T))\n",
        "#"
      ],
      "metadata": {
        "id": "e3sklaopG-ZI"
      },
      "execution_count": null,
      "outputs": []
    },
    {
      "cell_type": "code",
      "source": [
        "# mpg 데이터를 이용해서 분석 문제를 해결해 보세요.\n",
        "# 우선 mpg 데이터를 불러와서 일부러 이상치를 만들겠습니다. drv(구동방식) 변수의 값은 4(사륜구동), f(전륜구동), r(후륜구동) 세 종류로 되어있습니다. 몇 개의 행에 존재할 수 없는 값 k를 할당하겠습니다. cty(도시 연비) 변수도 몇 개의 행에 극단적으로 크거나 작은 값을 할당하겠습니다.\n",
        "mpg <- as.data.frame(ggplot2::mpg)\n",
        "mpg[c(10, 14, 58, 93), \"drv\"] <- \"k\"\n",
        "mpg[c(29, 43, 129, 203), \"cty\"] <- c(3, 4, 39, 42)"
      ],
      "metadata": {
        "id": "uKiOQ7tAMBzU"
      },
      "execution_count": null,
      "outputs": []
    },
    {
      "cell_type": "code",
      "source": [
        "# 이상치가 들어있는 mpg 데이터를 활용해서 문제를 해결해보세요.\n",
        "# 구동방식별로 도시 연비가 다른지 알아보려고 합니다. 분석을 하려면 우선 두 변수에 이상치가 있는지 확인하려고 합니다.\n",
        "# •\tQ1. drv에 이상치가 있는지 확인하세요. 이상치를 결측 처리한 다음 이상치가 사라졌는지 확인하세요. 결측 처리 할 때는 %in% 기호를 활용하세요.\n",
        "# drv = 범주형 변수 = 빈도표\n",
        "table(mpg$drv)\n",
        "# k값을 가진 이상치가 4개 있다\n",
        "# mpg$drv <- ifelse(mpg$drv == \"k\", NA, mpg$drv)\n",
        "mpg$drv <- ifelse(mpg$drv %in% c(\"4\",\"f\",\"r\"), mpg$drv, NA)\n",
        "table(mpg$drv)\n",
        "# •\tQ2. 상자 그림을 이용해서 cty에 이상치가 있는지 확인하세요. 상자 그림의 통계치를 이용해 정상 범위를 벗어난 값을 결측 처리한 후 다시 상자 그림을 만들어 이상치가 사라졌는지 확인하세요.\n",
        "cty_box <- boxplot(mpg$cty)\n",
        "cty_box$stats\n",
        "mpg$cty <- ifelse(mpg$cty < 9 | mpg$cty > 26, NA, mpg$cty)\n",
        "boxplot(mpg$cty)\n",
        "# •\tQ3. 두 변수의 이상치를 결측처리 했으니 이제 분석할 차례입니다. 이상치를 제외한 다음 drv별로 cty 평균이 어떻게 다른지 알아보세요. 하나의 dplyr 구문으로 만들어야 합니다.\n",
        "mpg %>%\n",
        "  filter(!is.na(drv) & !is.na(cty)) %>%\n",
        "  group_by(drv) %>%\n",
        "  summarise(cty_mean = mean(cty))\n",
        "#\n"
      ],
      "metadata": {
        "id": "967nM-McN0hI"
      },
      "execution_count": null,
      "outputs": []
    },
    {
      "cell_type": "code",
      "source": [
        "# 그래프\n",
        "library(ggplot2)\n",
        "# 산점도\n",
        "mpg <- as.data.frame(ggplot2::mpg)\n",
        "ggplot(data = mpg, aes(x = displ, y = hwy)) + # 배경 설정\n",
        "  geom_point() # 기하학적 객체 설정 = 무엇을 그릴지 결정\n",
        "# 꾸미기\n",
        "# x축 조정\n",
        "ggplot(data = mpg, aes(x = displ, y = hwy)) +\n",
        "  geom_point() +\n",
        "  xlim(3,6)\n",
        "# 경고메시지: 명령어가 실행되므로 무시해도 괜찮음, 하지만 참고해야 됨 = 그림에 표현되지 않은 데이터가 있다는 내용"
      ],
      "metadata": {
        "id": "22WJGXxqPGiI"
      },
      "execution_count": null,
      "outputs": []
    },
    {
      "cell_type": "code",
      "source": [
        "# y축 조정\n",
        "ggplot(data = mpg, aes(x = displ, y = hwy)) +\n",
        "  geom_point() +\n",
        "  ylim(20,40)\n",
        "# x, y축 동시에 조정\n",
        "ggplot(data = mpg, aes(x = displ, y = hwy)) +\n",
        "  geom_point() +\n",
        "  xlim(3,6) +\n",
        "  ylim(20,40)\n",
        "#"
      ],
      "metadata": {
        "id": "miICqduTV8FP"
      },
      "execution_count": null,
      "outputs": []
    },
    {
      "cell_type": "code",
      "source": [
        "# mpg 데이터와 midwest 데이터를 이용해서 분석 문제를 해결해 보세요.\n",
        "# •\tQ1. mpg 데이터의 cty(도시 연비)와 hwy(고속도로 연비) 간에 어떤 관계가 있는지 알아보려고 합니다. x축은 cty, y축은 hwy로 된 산점도를 만들어 보세요.\n",
        "options(scipen = 99)\n",
        "mpg <- as.data.frame(ggplot2::mpg)\n",
        "library(ggplot2)\n",
        "ggplot(data = mpg, aes(x = cty, y = hwy))+\n",
        "  geom_point()\n",
        "# 상관계수\n",
        "cor(mpg$cty, mpg$hwy)\n",
        "# 상관분석\n",
        "cor.test(mpg$cty, mpg$hwy)\n",
        "# •\tQ2. 미국 지역별 인구통계 정보를 담은 ggplot2 패키지의 midwest 데이터를 이용해서 전체 인구와 아시아인 인구 간에 어떤 관계가 있는지 알아보려고 합니다. x축은 poptotal(전체 인구), y축은 popasian(아시아인 인구)으로 된 산점도를 만들어 보세요. 전체 인구는 50만 명 이하, 아시아인 인구는 1만 명 이하인 지역만 산점도에 표시되게 설정하세요.\n",
        "midwest <- as.data.frame(ggplot2::midwest)\n",
        "ggplot(data = midwest, aes(x = poptotal, y = popasian))+\n",
        "  geom_point()+\n",
        "  xlim(0, 500000)+\n",
        "  ylim(0, 10000)\n",
        "  # 상관계수\n",
        "cor(midwest$poptotal, midwest$popasian)\n",
        "# 상관분석\n",
        "cor.test(midwest$poptotal, midwest$popasian)\n",
        "#"
      ],
      "metadata": {
        "id": "__Qx9GNWaq97"
      },
      "execution_count": null,
      "outputs": []
    },
    {
      "cell_type": "code",
      "source": [
        "# 막대그래프\n",
        "# 데이터 준비\n",
        "mpg <- as.data.frame(ggplot2::mpg)\n",
        "# drv = 범주형 변수 => 빈도표\n",
        "table(mpg$drv)\n",
        "# 빈도 막대그래프 = 막대의 높이가 곧 빈도\n",
        "ggplot(data = mpg, aes(x = drv))+\n",
        "  geom_bar()\n",
        "# cty = 연속형 변수 => 요약통계\n",
        "summary(mpg$cty)\n",
        "# 히스토그램\n",
        "ggplot(data = mpg, aes(x = cty))+\n",
        "  geom_bar()\n",
        "# 구간 수 설정(기본값이 30)\n",
        "ggplot(data = mpg, aes(x = cty))+\n",
        "  geom_histogram(bins = 10)\n",
        "#"
      ],
      "metadata": {
        "id": "QdprLmlUdFdn"
      },
      "execution_count": null,
      "outputs": []
    },
    {
      "cell_type": "code",
      "source": [
        "# 빈도가 아닌 다른 값으로 막대그래프 그리기\n",
        "# 데이터 전처리\n",
        "library(tidyverse)\n",
        "drv_hwy <- mpg %>%\n",
        "  group_by(drv) %>%\n",
        "  summarise(hwy_mean = mean(hwy))\n",
        "drv_hwy\n",
        "# 평균값으로 막대 그래프\n",
        "ggplot(data = drv_hwy, aes(x = drv, y = hwy_mean))+\n",
        "  geom_col()\n",
        "# 막대 순서 조정\n",
        "# 오름차순\n",
        "ggplot(data = drv_hwy, aes(x = reorder(drv, hwy_mean), y = hwy_mean))+\n",
        "  geom_col()\n",
        "# 내림차순\n",
        "ggplot(data = drv_hwy, aes(x = reorder(drv, -hwy_mean), y = hwy_mean))+\n",
        "  geom_col()+\n",
        "  xlab(\"drv\") # x축 제목 설정\n",
        "#"
      ],
      "metadata": {
        "id": "acFAZDBifp7N"
      },
      "execution_count": null,
      "outputs": []
    },
    {
      "cell_type": "code",
      "source": [
        "# mpg 데이터를 이용해서 분석 문제를 해결해 보세요.\n",
        "# •\tQ1. 어떤 회사에서 생산한 \"suv\" 차종의 도시 연비가 높은지 알아보려고 합니다. \"suv\" 차종을 대상으로 평균 cty(도시 연비)가 가장 높은 회사 다섯 곳을 막대 그래프로 표현해 보세요. 막대는 연비 가 높은 순으로 정렬하세요.\n",
        "mpg <- as.data.frame(ggplot2::mpg)\n",
        "# 막대그래프에 표현할 데이터 만들기\n",
        "suv_cty <- mpg %>%\n",
        "  filter(class == \"suv\") %>%\n",
        "  group_by(manufacturer) %>%\n",
        "  summarise(cty_mean = mean(cty)) %>%\n",
        "  arrange(desc(cty_mean)) %>%\n",
        "  head(5)\n",
        "suv_cty\n",
        "# 만든 데이터를 기반으로 막대 그래프 그리기\n",
        "ggplot(data = suv_cty, aes(x = reorder(manufacturer, -cty_mean), y = cty_mean))+\n",
        "  geom_col()\n",
        "# •\tQ2. 자동차 중에서 어떤 class(자동차 종류)가 가장 많은지 알아보려고 합니다. 자동차 종류별 빈도를 표현한 막대 그래프를 만들어 보세요.\n",
        "# 빈도표 작성\n",
        "table(mpg$class)\n",
        "# 빈도 막대 그래프\n",
        "ggplot(data = mpg, aes(x = class))+\n",
        "  geom_bar()\n",
        "#\n"
      ],
      "metadata": {
        "id": "WpUeCwKwhY19"
      },
      "execution_count": null,
      "outputs": []
    },
    {
      "cell_type": "code",
      "source": [
        "# 선그래프\n",
        "# 데이터 준비\n",
        "economics <- as.data.frame(ggplot2::economics)\n",
        "str(economics)\n",
        "# 실업자 수로 선 그래프 그리기\n",
        "# unemploy = number of unemployed in thousands\n",
        "ggplot(data = economics, aes(x = date, y = unemploy))+\n",
        "  geom_line()\n",
        "# pce = personal consumption expenditures, in billions of dollars\n",
        "ggplot(data = economics, aes(x = date, y = pce))+\n",
        "  geom_line()\n",
        "# pop = total population, in thousands\n",
        "ggplot(data = economics, aes(x = date, y = pop))+\n",
        "  geom_line()\n",
        "#"
      ],
      "metadata": {
        "id": "Lw3yDikdnaSa"
      },
      "execution_count": null,
      "outputs": []
    },
    {
      "cell_type": "code",
      "source": [
        "# economics 데이터를 이용해서 분석 문제를 해결해 보세요.\n",
        "# •\tQ1. psavert(개인 저축률)가 시간에 따라서 어떻게 변해왔는지 알아보려고 합니다. 시간에 따른 개인 저축률의 변화를 나타낸 시계열 그래프를 만들어 보세요.\n",
        "economics <- as.data.frame(ggplot2::economics)\n",
        "str(economics)\n",
        "# psavert = personal save rate\n",
        "ggplot(data = economics, aes(x = date, y = psavert))+\n",
        "  geom_line()\n",
        "#"
      ],
      "metadata": {
        "id": "h9cod3ESqugn"
      },
      "execution_count": null,
      "outputs": []
    },
    {
      "cell_type": "code",
      "source": [
        "# 상자그림 = 상자수염그림\n",
        "mpg <- as.data.frame(ggplot2::mpg)\n",
        "# 구동방식 별로 도시 연비가 어떻게 다른지에 대해서 상자그림으로 확인\n",
        "ggplot(data = mpg, aes(x = drv, y = cty))+\n",
        "  geom_boxplot()\n",
        "# 이상치 확인\n",
        "boxplot(mpg$hwy)$stats\n",
        "# 12보다 작거나, 37보다 크면 이상치로 판단"
      ],
      "metadata": {
        "id": "8obqHfxFragm"
      },
      "execution_count": null,
      "outputs": []
    },
    {
      "cell_type": "code",
      "source": [
        "# mpg 데이터를 이용해서 분석 문제를 해결해 보세요.\n",
        "# •\tQ1. class(자동차 종류)가 \"compact\", \"subcompact\", \"suv\"인 자동차의 cty(도시 연비)가 어떻게 다른지 비교해보려고 합니다. 세 차종의 cty를 나타낸 상자 그림을 만들어보세요.\n",
        "mpg <- as.data.frame(ggplot2::mpg)\n",
        "# class(자동차 종류)가 \"compact\", \"subcompact\", \"suv\"인 자동차 추출\n",
        "css <- mpg %>%\n",
        "  filter(class %in% c(\"compact\", \"subcompact\", \"suv\"))\n",
        "ggplot(data = css, aes(x = class, y = cty))+\n",
        "  geom_boxplot()\n",
        "#"
      ],
      "metadata": {
        "id": "oIQMCwggsa6p"
      },
      "execution_count": null,
      "outputs": []
    },
    {
      "cell_type": "code",
      "source": [
        "# 지도 시각화 = 단계구분도 choropleth map\n",
        "# map projection\n",
        "install.packages(\"mapproj\")\n",
        "install.packages(\"ggiraphExtra\")\n",
        "library(mapproj)\n",
        "library(ggiraphExtra)\n",
        "# 미국 주별 범죄 데이터 = 내장 데이터\n",
        "str(USArrests)\n",
        "head(USArrests)\n",
        "# 현재 데이터의 행 이름이 주 이름\n",
        "# 주 이름을 열로 변환\n",
        "library(tidyverse)\n",
        "crime <- rownames_to_column(USArrests, var = \"state\")\n",
        "head(crime)\n",
        "# 지도 데이터와 합치기 위해서 주 이름을 소문자로 변경\n",
        "crime$state <- tolower(crime$state)\n",
        "head(crime)\n",
        "# 지도 데이터 준비\n",
        "library(ggplot2)\n",
        "state_map <- map_data(\"state\")\n",
        "head(state_map)"
      ],
      "metadata": {
        "id": "4UWKlIUjs4Hx"
      },
      "execution_count": null,
      "outputs": []
    },
    {
      "cell_type": "code",
      "source": [
        "# 지도 시각화\n",
        "# 살인\n",
        "ggChoropleth(data = crime,\n",
        "             aes(fill = Murder, map_id = state),\n",
        "             map = state_map)"
      ],
      "metadata": {
        "id": "-2jZcRX9ubdV"
      },
      "execution_count": null,
      "outputs": []
    },
    {
      "cell_type": "code",
      "source": [
        "# 인터랙티브 시각화 추가\n",
        "ggChoropleth(data = crime,\n",
        "             aes(fill = Murder, map_id = state),\n",
        "             map = state_map,\n",
        "             interactive = T)\n",
        "#"
      ],
      "metadata": {
        "id": "pI_XG90kwgEf"
      },
      "execution_count": null,
      "outputs": []
    },
    {
      "cell_type": "code",
      "source": [
        "# 폭행\n",
        "ggChoropleth(data = crime,\n",
        "             aes(fill = Assault, map_id = state),\n",
        "             map = state_map)\n",
        "# 인터랙티브 시각화 추가\n",
        "ggChoropleth(data = crime,\n",
        "             aes(fill = Assault, map_id = state),\n",
        "             map = state_map,\n",
        "             interactive = T)\n",
        "#\n",
        "# 성범죄\n",
        "ggChoropleth(data = crime,\n",
        "             aes(fill = Rape, map_id = state),\n",
        "             map = state_map)\n",
        "# 인터랙티브 시각화 추가\n",
        "ggChoropleth(data = crime,\n",
        "             aes(fill = Rape, map_id = state),\n",
        "             map = state_map,\n",
        "             interactive = T)\n",
        "#"
      ],
      "metadata": {
        "id": "U_L2TN3SxeIl"
      },
      "execution_count": null,
      "outputs": []
    },
    {
      "cell_type": "code",
      "source": [
        "# 우리나라 인구 수, 결핵환자 수 지도 시각화\n",
        "install.packages(\"devtools\")\n",
        "devtools::install_github(\"cardiomoon/kormaps2014\")\n",
        "library(stringi)\n",
        "library(kormaps2014)\n",
        "\n",
        "# 지역 통계 데이터 - 인구수\n",
        "korpop1\n",
        "str(korpop1)\n",
        "# 변수 이름 변경\n",
        "library(tidyverse)\n",
        "korpop1_copy <- rename(korpop1,\n",
        "                       name = 행정구역별_읍면동,\n",
        "                       pop = 총인구_명)\n",
        "head(korpop1_copy)"
      ],
      "metadata": {
        "id": "h6yTKJCnx9oY"
      },
      "execution_count": null,
      "outputs": []
    },
    {
      "cell_type": "code",
      "source": [
        "# 지도 데이터\n",
        "kormap1\n",
        "# 지도 시각화\n",
        "options(scipen = 99)\n",
        "ggChoropleth(data = korpop1_copy,\n",
        "             aes(fill = pop, map_id = code),\n",
        "             map = kormap1)\n",
        "# interactive\n",
        "ggChoropleth(data = korpop1_copy,\n",
        "             aes(fill = pop, map_id = code),\n",
        "             map = kormap1,\n",
        "             interactive = T)\n",
        "# 지역 이름으로 나오게 변경\n",
        "ggChoropleth(data = korpop1_copy,\n",
        "             aes(fill = pop, map_id = code, tooltip = name),\n",
        "             map = kormap1,\n",
        "             interactive = T)\n",
        "#"
      ],
      "metadata": {
        "id": "cl1GUN4yGRud"
      },
      "execution_count": null,
      "outputs": []
    },
    {
      "cell_type": "code",
      "source": [
        "# 결핵환자 데이터 준비\n",
        "tbc\n",
        "# 지도 데이터 준비\n",
        "kormap1\n",
        "# 지도 시각화\n",
        "ggChoropleth(data = tbc,\n",
        "             aes(fill = NewPts, map_id = code, tooltip = name),\n",
        "             map = kormap1,\n",
        "             interactive = T)"
      ],
      "metadata": {
        "id": "1k_XW0slIRKJ"
      },
      "execution_count": null,
      "outputs": []
    },
    {
      "cell_type": "code",
      "source": [
        "# 인터랙티브 시각화\n",
        "install.packages(\"plotly\")\n",
        "library(plotly)\n",
        "library(ggplot2)\n",
        "# 산점도\n",
        "mpg <- as.data.frame(ggplot2::mpg)\n",
        "p <- ggplot(data = mpg, aes(x = displ, y = cty))+\n",
        "  geom_point()\n",
        "ggplotly(p)"
      ],
      "metadata": {
        "id": "wdooPP-cKXAJ"
      },
      "execution_count": null,
      "outputs": []
    },
    {
      "cell_type": "code",
      "source": [
        "# 막대그래프\n",
        "diamonds\n",
        "table(diamonds$cut)\n",
        "table(diamonds$clarity)\n",
        "ggplot(data = diamonds, aes(x = cut, fill = clarity)) +\n",
        "  geom_bar()\n",
        "# 막대 분리\n",
        "p <- ggplot(data = diamonds, aes(x = cut, fill = clarity)) +\n",
        "  geom_bar(position = \"dodge\")\n",
        "ggplotly(p)"
      ],
      "metadata": {
        "id": "-ZqsV3-SNLKu"
      },
      "execution_count": null,
      "outputs": []
    },
    {
      "cell_type": "code",
      "source": [
        "# 선그래프\n",
        "install.packages(\"dygraphs\")\n",
        "library(dygraphs)\n",
        "# 데이터 준비\n",
        "str(economics)\n",
        "# 데이터 전처리\n",
        "library(xts)\n",
        "# 실업자 수\n",
        "eco1 <- xts(economics$unemploy, order.by = economics$date)\n",
        "# 인터랙티브 시각화\n",
        "dygraph(eco1)\n",
        "# 날짜 간격 선택\n",
        "dygraph(eco1) %>% dyRangeSelector()\n",
        "# 개인저축율\n",
        "eco2 <- xts(economics$psavert, order.by = economics$date)\n",
        "# 인터랙티브 시각화\n",
        "dygraph(eco2)\n",
        "# 날짜 간격 선택\n",
        "dygraph(eco2) %>% dyRangeSelector()\n",
        "#\n",
        "# eco1 & eco2 합치기\n",
        "eco3 <- cbind(eco1, eco2)\n",
        "head(eco3)\n",
        "# 변수 이름 변경\n",
        "colnames(eco3) <- c(\"unemploy\",\"psavert\")\n",
        "colnames(eco3)\n",
        "# 인터랙티브 시각화\n",
        "dygraph(eco3)\n",
        "# 실업자수 & 개인저축율 = 선을 두개 그림\n",
        "# 실업자 수의 변동성 작게 만들기\n",
        "eco1 <- xts(economics$unemploy/1000, order.by = economics$date)\n",
        "#\n",
        "eco3 <- cbind(eco1, eco2)\n",
        "# 인터랙티브 시각화\n",
        "dygraph(eco3)\n",
        "# 날짜 간격 선택\n",
        "dygraph(eco3) %>% dyRangeSelector()\n",
        "#"
      ],
      "metadata": {
        "id": "c_zvW2ajRP5r"
      },
      "execution_count": null,
      "outputs": []
    },
    {
      "cell_type": "code",
      "source": [
        "```{r}\n",
        "# 맨 처음 청크에서 라이브러리 등 세팅합니다.\n",
        "library(tidyverse);library(mapproj);library(ggiraphExtra)\n",
        "options(scipen = 99)\n",
        "```\n",
        "\n",
        "chunk 만들기: ctrl + alt + i\n",
        "\n",
        "```{r warning=FALSE, message=FALSE}\n",
        "# 맨 처음 청크에서 라이브러리 등 세팅합니다.\n",
        "library(tidyverse);library(mapproj);library(ggiraphExtra)\n",
        "options(scipen = 99)\n",
        "```"
      ],
      "metadata": {
        "id": "FKwfSGChSwUz"
      },
      "execution_count": null,
      "outputs": []
    },
    {
      "cell_type": "code",
      "source": [
        "```{r include=FALSE}\n",
        "library(tidyverse);library(mapproj);library(ggiraphExtra)\n",
        "options(scipen = 99)\n",
        "```"
      ],
      "metadata": {
        "id": "Snjd-2hAX88L"
      },
      "execution_count": null,
      "outputs": []
    },
    {
      "cell_type": "code",
      "source": [
        "```{r echo=FALSE}\n",
        "library(tidyverse);library(mapproj);library(ggiraphExtra)\n",
        "options(scipen = 99)\n",
        "```"
      ],
      "metadata": {
        "id": "jZk43rLlYcPj"
      },
      "execution_count": null,
      "outputs": []
    },
    {
      "cell_type": "code",
      "source": [
        "# 분석 시작\n",
        "\n",
        "데이터 준비\n",
        "\n",
        "```{r echo=FALSE}\n",
        "mpg <- as.data.frame(ggplot2::mpg)\n",
        "head(mpg)\n",
        "```"
      ],
      "metadata": {
        "id": "6NDNFFodZJct"
      },
      "execution_count": null,
      "outputs": []
    },
    {
      "cell_type": "code",
      "source": [
        "## R 마크다운이란?\n",
        "\n",
        "마크다운 문법으로 코드를 작성해 [HTML](https://ko.wikipedia.org/wiki/HTML)로 변환할 수 있습니다. R 마크다운을 이용하면 분석 과정과 결과를 자세하게 기술할 수 있기 때문에 **재현 가능성**을 갖춘 *데이터 분석 보고서*를 만들 수 있습니다.\n",
        "\n",
        "### R 마크다운 문법 예제\n",
        "\n",
        "아래와 같이 작성하면 코드와 함께 `summary(cars)`를 실행한 결과물이 출력됩니다.\n",
        "\n",
        "```{r}\n",
        "summary(cars)\n",
        "```\n",
        "\n",
        "별도로 이미지 파일을 붙여 넣는 작업을 하지 않아도 코드 아래에 그래프를 삽입할 수 있습니다.\n",
        "\n",
        "```{r}\n",
        "library(ggplot2)\n",
        "qplot(data = mpg, x = drv, fill = drv)\n",
        "```\n",
        "\n",
        "문자 앞뒤에 *특수 문자*를 넣으면 기울임체가 됩니다.\n",
        "\n",
        "문자 앞뒤에 **특수 문자**를 넣으면 강조체가 됩니다.\n",
        "\n",
        "문자 앞뒤에 ~~특수 문자~~를 넣으면 취소선을 만듭니다.\n",
        "\n",
        "문자 앞뒤에 [특수 문자](http://www.google.com/search?q=special+character)를 넣으면 하이퍼링크를 만듭니다.\n",
        "\n",
        "# 1 단계 제목\n",
        "## 2 단계 제목\n",
        "### 3 단계 제목\n",
        "#### 4 단계 제목\n",
        "\n",
        "데이터 앞부분 일부를 출력하려면 `head()` 를 이용하면 됩니다. `tail()`은 데이터 뒷부분 일부를 출력하는 기능을 합니다."
      ],
      "metadata": {
        "id": "coPnPxusaFw6"
      },
      "execution_count": null,
      "outputs": []
    },
    {
      "cell_type": "code",
      "source": [
        "```{r include=FALSE}\n",
        "# install.packages(\"corrplot\")\n",
        "library(corrplot)\n",
        "```\n",
        "\n",
        "# 상관분석\n",
        "## 데이터 선정\n",
        "ggplot2 패키지에서 제공하는 내장 데이터인 economics 데이터를 이용하여 분석합니다.\n",
        "\n",
        "### 데이터 살펴보기\n",
        "앞부분만 살펴봅니다.\n",
        "\n",
        "```{r}\n",
        "economics <- as.data.frame(ggplot2::economics)\n",
        "head(economics)\n",
        "```\n",
        "\n",
        "### 상관계수 구하기\n",
        "pce 개인소비지출 & unemploy 실업자수 변수를 이용하여 상관계수와 상관계수 유의성 검정을 시행합니다.\n",
        "\n",
        "```{r}\n",
        "# 상관계수 t검정\n",
        "cor.test(economics$pce, economics$unemploy)\n",
        "```\n",
        "\n",
        "<결과 해석>\n",
        "상관계수는 0.6145176\n",
        "1) 방향: 양의 상관관계, 직접 상관관계(같은 방향)\n",
        "2) 강도: 0.3~0.7 중간정도 크기, 중간정도 크기의 상관관계를 가지고 있음\n",
        "+ 유의확률(<0.05): 상관계수가 통계적으로 유의함\n",
        "\n",
        "### 상관행렬\n",
        "#### 데이터 준비\n",
        "\n",
        "```{r}\n",
        "str(mtcars)\n",
        "```\n",
        "\n",
        "#### 상관계수: 변수의 개수 11개 => 11*10/2 = 55\n",
        "\n",
        "```{r}\n",
        "cor_result <- round(cor(mtcars),2)\n",
        "cor_result\n",
        "```\n",
        "\n",
        "#### 상관행렬 그리기\n",
        "\n",
        "```{r warning=FALSE, message=FALSE}\n",
        "library(corrplot)\n",
        "corrplot(cor_result)\n",
        "```\n",
        "\n",
        "#### 꾸미기\n",
        "```{r}\n",
        "corrplot(cor_result, method = \"number\")\n",
        "```\n",
        "\n",
        "#### 더 꾸미기\n",
        "```{r}\n",
        "corrplot(cor_result,\n",
        "         method = \"color\",\n",
        "         type = \"lower\",\n",
        "         order = \"hclust\",\n",
        "         addCoef.col = \"black\",\n",
        "         tl.col = \"black\",\n",
        "         tl.srt = 45,\n",
        "         diag = F)\n",
        "```"
      ],
      "metadata": {
        "id": "ympI-PJcaHNG"
      },
      "execution_count": null,
      "outputs": []
    },
    {
      "cell_type": "code",
      "source": [
        "# 독립표본 t검정\n",
        "\n",
        "```{r warning=FALSE, message=FALSE}\n",
        "options(scipen = 99)\n",
        "library(ggplot2)\n",
        "library(tidyverse)\n",
        "```\n",
        "\n",
        "## 데이터준비\n",
        "\n",
        "```{r}\n",
        "mpg <- as.data.frame(ggplot2::mpg)\n",
        "str(mpg)\n",
        "```\n",
        "\n",
        "## class 가 suv, compact 인 자동차 데이터 만들기\n",
        "\n",
        "```{r}\n",
        "table(mpg$class)\n",
        "mpg_t <- mpg %>%\n",
        "  filter(class == \"suv\" | class == \"compact\") %>%\n",
        "  select(class, hwy)\n",
        "head(mpg_t)\n",
        "```\n",
        "\n",
        "## 등분산 검정, var.test(종속변수~독립변수)\n",
        "\n",
        "```{r}\n",
        "var.test(mpg_t$hwy~mpg_t$class)\n",
        "```\n",
        "\n",
        "<결과 해석>\n",
        "\n",
        "p-value = 0.08078\n",
        "\n",
        "유의수준 0.05와 비교\n",
        "\n",
        "0.08078 > 0.05 => 면적이 더 크다 = 왼쪽에 있다 = 채택역 = 귀무가설 채택 = 차이가 없다 = 분산이 같다 = 등분산 가정\n",
        "\n",
        "## 등분산 가정하여 독립표본 t검정 수행, t.test(종속변수~독립변수)\n",
        "\n",
        "```{r}\n",
        "t.test(mpg_t$hwy~mpg_t$class, var.equal = T)\n",
        "```\n",
        "\n",
        "<결과 해석>\n",
        "\n",
        "두 그룹 (suv 와 compact)의 고속도로 평균 연비에 통계적으로 유의한 차이가 있다.\n",
        "\n",
        "## 시각화\n",
        "class 별로 hwy 평균값 데이터가 필요하여 추출\n",
        "\n",
        "```{r}\n",
        "suv_com <- mpg_t %>%\n",
        "  group_by(class) %>%\n",
        "  summarise(hwy_mean = mean(hwy))\n",
        "suv_com\n",
        "```\n",
        "\n",
        "### class 별로 hwy 평균값을 표현하는 막대 그래프\n",
        "\n",
        "```{r}\n",
        "ggplot(data = suv_com, aes(x = class, y = hwy_mean))+\n",
        "  geom_col()\n",
        "\n",
        "ggplot(data = suv_com, aes(x = class, y = hwy_mean, fill = class))+\n",
        "  geom_col(width = 0.5)+\n",
        "  scale_fill_manual(values = c(\"#993333\",\"lightblue\"))+\n",
        "  theme_bw()+\n",
        "  theme(axis.title.x = element_text(color=\"#993333\", size=14, face=\"bold\"))\n",
        "```"
      ],
      "metadata": {
        "id": "eQKGokhFfp8Y"
      },
      "execution_count": null,
      "outputs": []
    },
    {
      "cell_type": "code",
      "source": [],
      "metadata": {
        "id": "oPuDkzrohTy2"
      },
      "execution_count": null,
      "outputs": []
    }
  ]
}